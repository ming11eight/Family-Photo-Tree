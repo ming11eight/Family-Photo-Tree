{
 "cells": [
  {
   "cell_type": "code",
   "execution_count": 1,
   "metadata": {},
   "outputs": [],
   "source": [
    "import pandas as pd\n",
    "dataset = pd.read_csv('datasets/dataset_aihub.csv')"
   ]
  },
  {
   "cell_type": "code",
   "execution_count": 12,
   "metadata": {},
   "outputs": [
    {
     "data": {
      "text/html": [
       "<div>\n",
       "<style scoped>\n",
       "    .dataframe tbody tr th:only-of-type {\n",
       "        vertical-align: middle;\n",
       "    }\n",
       "\n",
       "    .dataframe tbody tr th {\n",
       "        vertical-align: top;\n",
       "    }\n",
       "\n",
       "    .dataframe thead th {\n",
       "        text-align: right;\n",
       "    }\n",
       "</style>\n",
       "<table border=\"1\" class=\"dataframe\">\n",
       "  <thead>\n",
       "    <tr style=\"text-align: right;\">\n",
       "      <th></th>\n",
       "      <th>id</th>\n",
       "      <th>name</th>\n",
       "      <th>ext</th>\n",
       "      <th>class</th>\n",
       "    </tr>\n",
       "  </thead>\n",
       "  <tbody>\n",
       "    <tr>\n",
       "      <th>0</th>\n",
       "      <td>face_D_F0001_AGE_D_18_a1</td>\n",
       "      <td>F0001-D</td>\n",
       "      <td>jpg</td>\n",
       "      <td>0</td>\n",
       "    </tr>\n",
       "    <tr>\n",
       "      <th>1</th>\n",
       "      <td>face_D_F0001_AGE_D_18_a2</td>\n",
       "      <td>F0001-D</td>\n",
       "      <td>jpg</td>\n",
       "      <td>0</td>\n",
       "    </tr>\n",
       "    <tr>\n",
       "      <th>2</th>\n",
       "      <td>face_D_F0001_AGE_D_18_a3</td>\n",
       "      <td>F0001-D</td>\n",
       "      <td>jpg</td>\n",
       "      <td>0</td>\n",
       "    </tr>\n",
       "    <tr>\n",
       "      <th>3</th>\n",
       "      <td>face_D_F0001_AGE_D_18_a4</td>\n",
       "      <td>F0001-D</td>\n",
       "      <td>jpg</td>\n",
       "      <td>0</td>\n",
       "    </tr>\n",
       "    <tr>\n",
       "      <th>4</th>\n",
       "      <td>face_D_F0001_AGE_D_18_b1</td>\n",
       "      <td>F0001-D</td>\n",
       "      <td>jpg</td>\n",
       "      <td>0</td>\n",
       "    </tr>\n",
       "  </tbody>\n",
       "</table>\n",
       "</div>"
      ],
      "text/plain": [
       "                         id     name  ext  class\n",
       "0  face_D_F0001_AGE_D_18_a1  F0001-D  jpg      0\n",
       "1  face_D_F0001_AGE_D_18_a2  F0001-D  jpg      0\n",
       "2  face_D_F0001_AGE_D_18_a3  F0001-D  jpg      0\n",
       "3  face_D_F0001_AGE_D_18_a4  F0001-D  jpg      0\n",
       "4  face_D_F0001_AGE_D_18_b1  F0001-D  jpg      0"
      ]
     },
     "execution_count": 12,
     "metadata": {},
     "output_type": "execute_result"
    }
   ],
   "source": [
    "dataset.head(5)"
   ]
  },
  {
   "cell_type": "code",
   "execution_count": null,
   "metadata": {},
   "outputs": [],
   "source": []
  },
  {
   "cell_type": "code",
   "execution_count": 2,
   "metadata": {},
   "outputs": [],
   "source": [
    "import numpy as np\n",
    "img_inds = np.arange(len(dataset))\n",
    "np.random.shuffle(img_inds)\n",
    "train_inds = img_inds[:int(0.8*len(img_inds))]\n",
    "val_inds = img_inds[int(0.8*len(img_inds)):int(0.9*len(img_inds))]\n",
    "test_inds = img_inds[int(0.9*len(img_inds)):]"
   ]
  },
  {
   "cell_type": "code",
   "execution_count": 4,
   "metadata": {},
   "outputs": [
    {
     "data": {
      "text/plain": [
       "87539"
      ]
     },
     "execution_count": 4,
     "metadata": {},
     "output_type": "execute_result"
    }
   ],
   "source": [
    "import pandas as pd\n",
    "train_ = pd.read_csv('datasets/train_dataset.csv')\n",
    "len(train_)"
   ]
  },
  {
   "cell_type": "code",
   "execution_count": 3,
   "metadata": {},
   "outputs": [],
   "source": [
    "train_dataset = pd.DataFrame(columns=dataset.columns)\n",
    "for idx,i in enumerate(train_inds):\n",
    "    train_dataset.loc[idx] = dataset.loc[i]\n",
    "train_dataset.to_csv('./datasets/train_dataset.csv',index=False)"
   ]
  },
  {
   "cell_type": "code",
   "execution_count": 9,
   "metadata": {},
   "outputs": [],
   "source": [
    "val_dataset = pd.DataFrame(columns=dataset.columns)\n",
    "for idx,i in enumerate(val_inds):\n",
    "    val_dataset.loc[idx] = dataset.loc[i]\n",
    "val_dataset.to_csv('./datasets/val_dataset.csv',index=False)"
   ]
  },
  {
   "cell_type": "code",
   "execution_count": 10,
   "metadata": {},
   "outputs": [],
   "source": [
    "test_dataset = pd.DataFrame(columns=dataset.columns)\n",
    "for idx,i in enumerate(test_inds):\n",
    "    test_dataset.loc[idx] = dataset.loc[i]\n",
    "test_dataset.to_csv('./datasets/test_dataset.csv',index=False)"
   ]
  }
 ],
 "metadata": {
  "kernelspec": {
   "display_name": "Python 3 (ipykernel)",
   "language": "python",
   "name": "python3"
  },
  "language_info": {
   "codemirror_mode": {
    "name": "ipython",
    "version": 3
   },
   "file_extension": ".py",
   "mimetype": "text/x-python",
   "name": "python",
   "nbconvert_exporter": "python",
   "pygments_lexer": "ipython3",
   "version": "3.7.3"
  },
  "orig_nbformat": 4,
  "vscode": {
   "interpreter": {
    "hash": "916dbcbb3f70747c44a77c7bcd40155683ae19c65e1c03b4aa3499c5328201f1"
   }
  }
 },
 "nbformat": 4,
 "nbformat_minor": 2
}
